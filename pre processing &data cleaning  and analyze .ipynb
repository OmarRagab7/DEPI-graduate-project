import numpy as np
import pandas as pd
import matplotlib.pyplot as plt
import seaborn as sns
import json

# Define the Jupyter Notebook structure
notebook_content = {
    "cells": [
        {"cell_type": "code", "execution_count": None, "metadata": {}, "outputs": [], "source": [
            "import numpy as np\n",
            "import pandas as pd\n",
            "import matplotlib.pyplot as plt\n",
            "import seaborn as sns\n"
        ]},
        {"cell_type": "markdown", "metadata": {}, "source": ["# **Load Data**"]},
        {"cell_type": "code", "execution_count": None, "metadata": {}, "outputs": [], "source": [
            "data_path = '/mnt/data/cleaned_HR_data.xlsx'\n",
            "df = pd.read_excel(data_path)"
        ]},
        {"cell_type": "markdown", "metadata": {}, "source": ["# **Data Exploration**"]},
        {"cell_type": "code", "execution_count": None, "metadata": {}, "outputs": [], "source": [
            "print(\"\\nFirst 5 Rows of the Data:\")\n",
            "print(df.head())\n",
            "print(\"\\nData Information:\")\n",
            "print(df.info())\n",
            "print(\"\\nStatistical Summary:\")\n",
            "print(df.describe())"
        ]},
        {"cell_type": "markdown", "metadata": {}, "source": ["# **Check for Missing Values using Interquartile Range (IQR)**"]},
        {"cell_type": "code", "execution_count": None, "metadata": {}, "outputs": [], "source": [
            "Q1 = df.quantile(0.25)\n",
            "Q3 = df.quantile(0.75)\n",
            "IQR = Q3 - Q1\n",
            "outliers = ((df < (Q1 - 1.5 * IQR)) | (df > (Q3 + 1.5 * IQR))).sum()\n",
            "print(\"\\nMissing Values:\")\n",
            "print(df.isnull().sum())\n",
            "print(\"\\nOutliers detected using IQR:\")\n",
            "print(outliers)"
        ]},
        {"cell_type": "markdown", "metadata": {}, "source": ["# **Boxplot for Columns with Outliers**"]},
        {"cell_type": "code", "execution_count": None, "metadata": {}, "outputs": [], "source": [
            "outlier_columns = outliers[outliers > 0].index\n",
            "for col in outlier_columns:\n",
            "    plt.figure(figsize=(8, 4))\n",
            "    sns.boxplot(x=df[col])\n",
            "    plt.title(f\"Boxplot of {col}\", fontsize=14, fontweight='bold')\n",
            "    plt.show()"
        ]},
        {"cell_type": "markdown", "metadata": {}, "source": ["# **Data Analysis using Group By and Pivot Table**"]},
        {"cell_type": "code", "execution_count": None, "metadata": {}, "outputs": [], "source": [
            "print(\"\\nEmployee Count by Department:\")\n",
            "print(df.groupby('Department')['Employee_ID'].count())\n",
            "print(\"\\nAverage Salary by Department:\")\n",
            "print(df.pivot_table(index='Department', values='Salary', aggfunc='mean'))"
        ]},
        {"cell_type": "markdown", "metadata": {}, "source": ["# **Important Charts**"]},
        {"cell_type": "code", "execution_count": None, "metadata": {}, "outputs": [], "source": [
            "plt.figure(figsize=(10, 5))\n",
            "sns.countplot(x='Department', data=df, palette='viridis', legend=False)\n",
            "plt.title('Employee Count per Department', fontsize=14, fontweight='bold')\n",
            "plt.xticks(rotation=45)\n",
            "plt.show()\n",
            "plt.figure(figsize=(10, 5))\n",
            "sns.boxplot(x='Department', y='Salary', data=df, palette='coolwarm')\n",
            "plt.title('Salary Distribution by Department', fontsize=14, fontweight='bold')\n",
            "plt.xticks(rotation=45)\n",
            "plt.show()"
        ]}
    ],
    "metadata": {
        "kernelspec": {
            "display_name": "Python 3",
            "language": "python",
            "name": "python3"
        },
        "language_info": {
            "codemirror_mode": {"name": "ipython", "version": 3},
            "file_extension": ".py",
            "mimetype": "text/x-python",
            "name": "python",
            "nbconvert_exporter": "python",
            "pygments_lexer": "ipython3",
            "version": "3.8.10"
        }
    },
    "nbformat": 4,
    "nbformat_minor": 4
}

# Save the notebook as a file
notebook_path = "/mnt/data/HR_Data_Analysis.ipynb"
with open(notebook_path, "w", encoding="utf-8") as f:
    json.dump(notebook_content, f, indent=4)

notebook_path

